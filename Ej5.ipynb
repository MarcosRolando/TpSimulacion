{
 "cells": [
  {
   "cell_type": "code",
   "execution_count": 83,
   "metadata": {
    "pycharm": {
     "name": "#%%\n"
    }
   },
   "outputs": [],
   "source": [
    "from bisect import bisect\n",
    "from itertools import accumulate, repeat\n",
    "import matplotlib.pyplot as plt\n",
    "import numpy as np\n",
    "\n",
    "global Xo\n",
    "\n",
    "def gcl_set_semilla(semilla=int((101187 + 102323 +102291 + 102321)/4)):\n",
    "    global Xo\n",
    "    Xo = semilla\n",
    "\n",
    "def gcl_normalizado(iteraciones):\n",
    "\n",
    "    m = 2**32\n",
    "    a = 1013904223\n",
    "    c = 1664525\n",
    "    global Xo\n",
    "\n",
    "    numeros_aleatorios = []\n",
    "    for i in range(0, iteraciones):\n",
    "        X = (a * Xo + c) % m\n",
    "        numeros_aleatorios.append(X/m)\n",
    "        Xo = X\n",
    "\n",
    "    return numeros_aleatorios"
   ]
  },
  {
   "cell_type": "markdown",
   "metadata": {
    "collapsed": true,
    "pycharm": {
     "name": "#%% md\n"
    }
   },
   "source": [
    "Para la siguiente función de probabilidad empírica se pide:\n",
    "\n",
    "a) Desarrolle un algoritmo para generar la distribución de probabilidad anterior utilizando el generador de números\n",
    "aleatorios implementado en el ejercicio 1 (Prob 'A' 0.1, 'B' 0.5, 'C' 0.3, 'D' 0.1)"
   ]
  },
  {
   "cell_type": "code",
   "execution_count": 84,
   "metadata": {
    "pycharm": {
     "name": "#%%\n"
    }
   },
   "outputs": [],
   "source": [
    "def generar_elementos_random(elementos, pesos=None, cant=1):\n",
    "    n = len(elementos)\n",
    "\n",
    "    if pesos is None:\n",
    "\t    pesos = [1 for i in repeat(None, n)] #Si no me definieron los pesos entonces son equiprobables\n",
    "\n",
    "    pesos_acumulados = list(accumulate(pesos))\n",
    "    total = pesos_acumulados[-1] #Ultimo elemento, equivalente a n - 1\n",
    "    lo = 0\n",
    "    hi = n - 1 #Rangos para bisect\n",
    "\n",
    "    return [elementos[bisect(pesos_acumulados, gcl_normalizado(1)[0] * total, lo, hi)]\n",
    "            for i in repeat(None, cant)]\n",
    "\n",
    "gcl_set_semilla()\n",
    "elems = ['A', 'B', 'C', 'D']\n",
    "n = 500\n",
    "elemsGenerados = generar_elementos_random(elems, [1, 5, 3, 1], n)"
   ]
  },
  {
   "cell_type": "markdown",
   "metadata": {
    "pycharm": {
     "name": "#%% md\n"
    }
   },
   "source": [
    "b) Mostrar la distribución obtenida en un histograma."
   ]
  },
  {
   "cell_type": "code",
   "execution_count": 85,
   "metadata": {
    "pycharm": {
     "name": "#%%\n"
    }
   },
   "outputs": [
    {
     "data": {
      "text/plain": "(0.0, 0.5)"
     },
     "execution_count": 85,
     "metadata": {},
     "output_type": "execute_result"
    },
    {
     "data": {
      "text/plain": "<Figure size 432x288 with 1 Axes>",
      "image/png": "[encoded data removed]"
     },
     "metadata": {
      "needs_background": "light"
     },
     "output_type": "display_data"
    }
   ],
   "source": [
    "elemsGenerados.sort() #Para que el histograma quede bien el orden, no encontre rapido otra forma y no queria perder mas tiempo\n",
    "\n",
    "plt.hist(elemsGenerados, weights=np.ones(len(elemsGenerados)) / len(elemsGenerados))\n",
    "plt.ylim(0, 0.5)"
   ]
  },
  {
   "cell_type": "markdown",
   "metadata": {
    "pycharm": {
     "name": "#%% md\n"
    }
   },
   "source": [
    "c) Proponga un test para aplicarle a los números al azar generados, y evalúe si los mismos pueden ser aceptados.\n",
    "\n",
    "Propongo el test de la Chi Cuadrado ya que es muy buena para analisis de frecuencias\n",
    "de valores y ver si estas se ajustan a las esperadas. Propongo entonces como\n",
    "hipotesis nula Ho que los numeros generados en mi algoritmo se distribuyen como pide\n",
    "el ejercicio."
   ]
  },
  {
   "cell_type": "code",
   "execution_count": 86,
   "outputs": [
    {
     "name": "stdout",
     "output_type": "stream",
     "text": [
      "El test acepta la hipotesis nula :-)\n"
     ]
    }
   ],
   "source": [
    "from scipy.stats import chi2\n",
    "from collections import Counter\n",
    "\n",
    "limiteSuperior = chi2.ppf(0.95, df=3) #Tengo 4 clases (A, B, C, D) asi que tengo 4 - 1 = 3 grados de libertad (df)\n",
    "frecEsperada = {'A':int(n*0.1), 'B':int(n*0.5), 'C':int(n*0.3), 'D':int(n*0.1)}\n",
    "frecObservada = Counter(elemsGenerados)\n",
    "\n",
    "diffTestResult = sum((frecObservada[i] - frecEsperada[i])**2 / frecEsperada[i] for i in elems)\n",
    "\n",
    "if diffTestResult <= limiteSuperior:\n",
    "    print('El test acepta la hipotesis nula :-)')\n",
    "else:\n",
    "    print('El test rechaza la hipotesis nula :-(')"
   ],
   "metadata": {
    "collapsed": false,
    "pycharm": {
     "name": "#%%\n"
    }
   }
  }
 ],
 "metadata": {
  "kernelspec": {
   "display_name": "Python 3",
   "language": "python",
   "name": "python3"
  },
  "language_info": {
   "codemirror_mode": {
    "name": "ipython",
    "version": 3
   },
   "file_extension": ".py",
   "mimetype": "text/x-python",
   "name": "python",
   "nbconvert_exporter": "python",
   "pygments_lexer": "ipython3",
   "version": "3.8.3"
  }
 },
 "nbformat": 4,
 "nbformat_minor": 1
}