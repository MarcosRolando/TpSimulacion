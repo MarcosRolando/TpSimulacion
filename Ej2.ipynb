{
  "nbformat": 4,
  "nbformat_minor": 0,
  "metadata": {
    "colab": {
      "name": "EJERCICIO-2.ipynb",
      "provenance": [],
      "collapsed_sections": []
    },
    "kernelspec": {
      "name": "python3",
      "display_name": "Python 3"
    }
  },
  "cells": [
    {
      "cell_type": "markdown",
      "metadata": {
        "id": "CRiLmU4oaIf3"
      },
      "source": [
        "##Proponer, y realizar, al menos 2 tests sobre el generador congruencial lineal implementado en el Ejercicio 1. Evaluar e interpretar los resultados de cada uno."
      ]
    },
    {
      "cell_type": "code",
      "metadata": {
        "id": "xlZqXFxtFMiA"
      },
      "source": [
        "import numpy as np\n",
        "import sympy as sym\n",
        "import matplotlib.pyplot as plt\n",
        "%matplotlib inline\n",
        "from scipy.stats import chi2\n",
        "from scipy import stats\n",
        "#from Ejercicio1 import generador_congruencial_lineal_normalizado"
      ],
      "execution_count": null,
      "outputs": []
    },
    {
      "cell_type": "markdown",
      "metadata": {
        "id": "1qebh-YuuPen"
      },
      "source": [
        "## Generador del Ejercicio - 1"
      ]
    },
    {
      "cell_type": "code",
      "metadata": {
        "id": "2cQAdWwAuXvV"
      },
      "source": [
        "Xo = 0"
      ],
      "execution_count": null,
      "outputs": []
    },
    {
      "cell_type": "code",
      "metadata": {
        "id": "KSD0kpCnuYR1"
      },
      "source": [
        "def semilla_gcl(semilla=102030):\n",
        "  global Xo\n",
        "  Xo = semilla"
      ],
      "execution_count": null,
      "outputs": []
    },
    {
      "cell_type": "code",
      "metadata": {
        "id": "ZQW6LDmeuaI6"
      },
      "source": [
        "def generador_congruencial_lineal_normalizado(iteraciones):\n",
        "  m=2**32\n",
        "  a=1013904223\n",
        "  c=1664525\n",
        "  global Xo\n",
        "\n",
        "  numeros_aleatorios = []\n",
        "  for i in range(0,iteraciones):\n",
        "    X = (a * Xo + c) % m\n",
        "    numeros_aleatorios.append(X/m)\n",
        "    Xo = X\n",
        "  return numeros_aleatorios"
      ],
      "execution_count": null,
      "outputs": []
    },
    {
      "cell_type": "markdown",
      "metadata": {
        "id": "cepjV-Sf2rJh"
      },
      "source": [
        "##Test 1 - Chi 2"
      ]
    },
    {
      "cell_type": "markdown",
      "metadata": {
        "id": "CmtifPdJ2beC"
      },
      "source": [
        "1) Elegimos el nivel de significacion con el que vamos a trabajar: \n",
        " *  Nivel de significacion = 0,05\n",
        "\n",
        "\n",
        "\n",
        "2) Obtenemos el limite de la zona de aceptacion / rechazo para k-1 grado de libertad. \n",
        "\n",
        "*  K = 10\n",
        "*  Grados de libertad = 9 \n",
        "\n",
        "\n",
        "3) Calculamos el estadistico con los datos del experimento estudiado, en este caso un GCL.\n",
        "\n",
        "* D^2 = SUM ( (Fo - Fe)^2 / Fe)\n",
        "\n",
        "Para poder calcularlo, tenemos que discretizar en intervalos nuestro experimento y calcular las frecuencias observadas y las frecuencias esperadas.\n",
        "\n",
        "\n",
        "4) Verificamos si se puede aceptar la hipótesis HO: \"El estimador es bueno para una uniforme(0,1).\""
      ]
    },
    {
      "cell_type": "code",
      "metadata": {
        "id": "d-zDeCN6icDE"
      },
      "source": [
        "limite_superior = chi2.ppf((0.95), df=9)"
      ],
      "execution_count": null,
      "outputs": []
    },
    {
      "cell_type": "code",
      "metadata": {
        "id": "H8yHG1iM5fkx"
      },
      "source": [
        "def frecuencias_observadas(numeros_aleatorios, k):\n",
        "    intervalos = []\n",
        "    frecuencias_obs = []\n",
        "\n",
        "    for numero in numeros_aleatorios:\n",
        "      intervalos.append(int(numero * k +1))\n",
        "\n",
        "    for i in range(1,k+1):\n",
        "      frecuencias_obs.append(intervalos.count(i))\n",
        "\n",
        "    return frecuencias_obs"
      ],
      "execution_count": null,
      "outputs": []
    },
    {
      "cell_type": "code",
      "metadata": {
        "id": "RutMIb0WEa3G"
      },
      "source": [
        "def frecuencias_esperadas(cantidad_generados, k):\n",
        "  frecuencias_esp = []\n",
        "\n",
        "  for i in range(1,k+1):\n",
        "    frecuencias_esp.append(((1/k)*cantidad_generados))\n",
        "\n",
        "  return frecuencias_esp"
      ],
      "execution_count": null,
      "outputs": []
    },
    {
      "cell_type": "code",
      "metadata": {
        "id": "mnnH1TkBkq7Y"
      },
      "source": [
        "def test_chi_cuadrado(numeros_aleatorios, cantidad_generados, alpha, k, observadas, esperadas):\n",
        "  frecuencia_obs = observadas(numeros_aleatorios, k)\n",
        "  frecuencia_esp = esperadas(cantidad_generados, k)\n",
        " \n",
        "  limite_superior = chi2.ppf((1 - alpha), df=(k-1))\n",
        "\n",
        "  d2 = sum((frecuencia_obs[i] - frecuencia_esp[i])**2 / frecuencia_esp[i] for i in range(k))\n",
        "\n",
        "  \n",
        "  if d2 <= limite_superior:\n",
        "    print('El test acepta la hipotesis nula.')\n",
        "  else:\n",
        "    print('El test rechaza la hipotesis nula.')\n"
      ],
      "execution_count": null,
      "outputs": []
    },
    {
      "cell_type": "markdown",
      "metadata": {
        "id": "Ls9UMDmRjsdl"
      },
      "source": [
        "## Pruebas: "
      ]
    },
    {
      "cell_type": "code",
      "metadata": {
        "id": "qqq4nQyzNEHu",
        "outputId": "5f230481-d864-4c8b-c6a0-31fa2413b1c8",
        "colab": {
          "base_uri": "https://localhost:8080/"
        }
      },
      "source": [
        "cant_generados = 10000\n",
        "nivel_de_significacion = 0.05\n",
        "k = 10\n",
        "numeros_aleatorios = generador_congruencial_lineal_normalizado(cant_generados)\n",
        "\n",
        "test_chi_cuadrado(numeros_aleatorios, cant_generados, nivel_de_significacion, k,  frecuencias_observadas, frecuencias_esperadas)"
      ],
      "execution_count": null,
      "outputs": [
        {
          "output_type": "stream",
          "text": [
            "El test acepta la hipotesis nula.\n"
          ],
          "name": "stdout"
        }
      ]
    },
    {
      "cell_type": "markdown",
      "metadata": {
        "id": "cKHZx9qljvfG"
      },
      "source": [
        "###Una vez que probamos el test, podemos decir que aceptamos la hipótesis y el generador GCL puede ser aceptado."
      ]
    },
    {
      "cell_type": "markdown",
      "metadata": {
        "id": "fTqSUmETPqoK"
      },
      "source": [
        "## Test 2 - Gap Test"
      ]
    },
    {
      "cell_type": "markdown",
      "metadata": {
        "id": "c5mY49f9eP0r"
      },
      "source": [
        "\n",
        "* Inicialmente elejimos la cantidad de gaps. \n",
        "\n",
        "* Para obtener las muestras, se utiliza el generador congruencial lineal (GCL) implementado en el ejercicio 1. \n",
        "\n",
        "* Iteramos hasta definir el tamaño de cada gap, es decir, contamos la cantidad de numeros aleatorios generados de forma consecutiva entre la generación de un número que pertenece al intervalo [α , β] y el próximo número generado que vuelve a pertenecer al intervalo.\n",
        "\n",
        "* Una vez calculados los gaps se aplica un test Chi-2 con las probabilidades observadas y esperadas, lo resolvemos : \n",
        "\n",
        "1) Calculamos las probabilidad observada y la esperada: \n",
        "\n",
        "* Para las probabilidad observada, decimos que para un gap de tamaño i, \n",
        "su probabilidad es = la cantidad de gaps de tamaño i / la cantidad total de gaps.\n",
        "\n",
        "* Para las probabilidad esperada, decimos que para un gap de tamaño i, su probabilidad es =  pi = p ∗ ((1 − p)(i)) donde p = β − α (largo del intervalo). Cabe destacar que esto distribuye de forma geometrica.\n",
        "\n",
        "2) Calculamos el limite superior, utilizando como nivel de significacion 0.01.\n",
        "\n",
        "3) Verificamos si se puede aceptar la hipótesis HO: \"El estimador es bueno para una uniforme(0,1).\""
      ]
    },
    {
      "cell_type": "code",
      "metadata": {
        "id": "fd_8XZiAl-t1"
      },
      "source": [
        "def probabilidades_observadas(gaps, cantidad_gaps):\n",
        "  gap_maximo = int(max(gaps)) + 1\n",
        "  observadas = np.zeros(gap_maximo)\n",
        "\n",
        "  for i in range(gap_maximo):\n",
        "    numero_ocurrencia = np.count_nonzero(gaps == i)\n",
        "    observadas[i] = numero_ocurrencia / cantidad_gaps\n",
        "  \n",
        "  return observadas"
      ],
      "execution_count": null,
      "outputs": []
    },
    {
      "cell_type": "code",
      "metadata": {
        "id": "nxbpBSI1mtvN"
      },
      "source": [
        "def probabilidades_esperadas(gaps, alpha, beta):\n",
        "  p = beta - alpha\n",
        "  gap_maximo = int(max(gaps)) + 1\n",
        "  esperadas = np.zeros(gap_maximo)\n",
        "\n",
        "  for i in range(gap_maximo):\n",
        "    esperadas[i] = p * ((1 - p) ** (i))\n",
        "  \n",
        "  return esperadas"
      ],
      "execution_count": null,
      "outputs": []
    },
    {
      "cell_type": "code",
      "metadata": {
        "id": "AFLywdsUqkIr"
      },
      "source": [
        "def gap_test(cantidad_gaps, alpha, beta, nivel_de_significacion):\n",
        "    gap_actual = 0\n",
        "    gaps = np.zeros(cantidad_gaps)\n",
        "    numero_aleatorio = generador_congruencial_lineal_normalizado(1)\n",
        "\n",
        "    while gap_actual < cantidad_gaps:\n",
        "\n",
        "        if (numero_aleatorio[0] > alpha) and (numero_aleatorio[0] <= beta):\n",
        "            gap_actual += 1\n",
        "\n",
        "        else:\n",
        "            gaps[gap_actual] += 1\n",
        "\n",
        "        numero_aleatorio = generador_congruencial_lineal_normalizado(1)\n",
        "\n",
        "\n",
        "    gap_maximo = int(max(gaps)) + 1\n",
        "\n",
        "    probabilidad_observada = probabilidades_observadas(gaps, cantidad_gaps)\n",
        "    probabilidad_esperada = probabilidades_esperadas(gaps, alpha, beta)\n",
        "    \n",
        "    limite_superior = chi2.ppf((1 - nivel_de_significacion), df=(gap_maximo-1))\n",
        "    d2 = sum((probabilidad_observada[i] - probabilidad_esperada[i])**2 / probabilidad_esperada[i] for i in range(gap_maximo))\n",
        "\n",
        "    if d2 <= limite_superior:\n",
        "      print('El test acepta la hipotesis nula.')\n",
        "      \n",
        "    else:\n",
        "      print('El test rechaza la hipotesis nula.')\n",
        "\n",
        "    return (gaps)"
      ],
      "execution_count": null,
      "outputs": []
    },
    {
      "cell_type": "markdown",
      "metadata": {
        "id": "GElMvqMThqkI"
      },
      "source": [
        "###Pruebas: "
      ]
    },
    {
      "cell_type": "code",
      "metadata": {
        "id": "NQvyGcgzZ6uG",
        "outputId": "5a768d39-8a96-4e6e-8fa7-544960938bc9",
        "colab": {
          "base_uri": "https://localhost:8080/"
        }
      },
      "source": [
        "gap_test(10, 0.2, 0.5, 0.01)"
      ],
      "execution_count": null,
      "outputs": [
        {
          "output_type": "stream",
          "text": [
            "El test acepta la hipotesis nula.\n"
          ],
          "name": "stdout"
        },
        {
          "output_type": "execute_result",
          "data": {
            "text/plain": [
              "array([ 4.,  1.,  1.,  0.,  3., 10.,  1.,  6.,  0.,  7.])"
            ]
          },
          "metadata": {
            "tags": []
          },
          "execution_count": 13
        }
      ]
    },
    {
      "cell_type": "code",
      "metadata": {
        "id": "uxpZvIh2bYtf",
        "outputId": "280e0abb-3ab4-428e-b1de-5aac85cfe3b4",
        "colab": {
          "base_uri": "https://localhost:8080/"
        }
      },
      "source": [
        "gap_test(1000, 0.1, 0.3, 0.05)"
      ],
      "execution_count": null,
      "outputs": [
        {
          "output_type": "stream",
          "text": [
            "El test acepta la hipotesis nula.\n"
          ],
          "name": "stdout"
        },
        {
          "output_type": "execute_result",
          "data": {
            "text/plain": [
              "array([ 1.,  3.,  1.,  0.,  2.,  1.,  4.,  4.,  8.,  0.,  0.,  3.,  1.,\n",
              "        0.,  0.,  0.,  2.,  2.,  3., 19.,  2., 21.,  4.,  5.,  1.,  6.,\n",
              "        0., 34.,  7.,  0.,  3., 14.,  1.,  8.,  5.,  6.,  4.,  2.,  9.,\n",
              "        0., 11.,  0.,  1.,  4.,  0.,  2., 13.,  3.,  4.,  4.,  0.,  0.,\n",
              "        5.,  1.,  4.,  4.,  2.,  7.,  1.,  0.,  0.,  2.,  0.,  4.,  1.,\n",
              "        3., 24.,  1.,  8.,  1.,  8., 11.,  5.,  3.,  3.,  1., 10.,  3.,\n",
              "        4.,  2.,  6.,  2.,  2.,  3.,  3.,  2.,  7.,  3.,  5.,  0., 14.,\n",
              "        7.,  0.,  4.,  4.,  1.,  0.,  0.,  1., 15.,  0.,  0.,  0.,  3.,\n",
              "        4.,  1.,  2., 12.,  5.,  0.,  3., 10.,  0.,  1.,  0.,  1.,  6.,\n",
              "        6.,  0.,  1.,  4.,  3.,  4.,  1.,  2.,  4.,  2., 18.,  0.,  3.,\n",
              "        3.,  5.,  6.,  4.,  6.,  0., 10.,  6.,  6.,  0.,  2.,  7., 10.,\n",
              "        4.,  3.,  9.,  0., 12.,  0.,  9.,  0.,  2.,  2.,  3.,  4.,  1.,\n",
              "        6.,  2.,  2.,  3.,  3.,  2.,  0.,  0.,  5., 14.,  1.,  0.,  0.,\n",
              "       10.,  1.,  4., 11.,  0.,  2.,  5.,  2.,  3.,  0.,  6.,  0.,  0.,\n",
              "        2., 13.,  1.,  2., 12.,  2., 11., 11.,  2.,  3.,  5.,  3.,  1.,\n",
              "       17.,  0., 11., 14.,  7.,  1.,  2.,  1.,  4.,  6., 15.,  1.,  1.,\n",
              "        2.,  4.,  1.,  7., 15.,  1.,  0.,  0.,  8.,  5.,  4.,  0.,  0.,\n",
              "        4.,  2.,  1.,  0.,  4.,  0.,  5.,  6., 14.,  0.,  1.,  0.,  2.,\n",
              "        2.,  0.,  1.,  5., 10., 10., 13.,  0.,  0.,  0.,  1.,  2., 10.,\n",
              "        7.,  0.,  6.,  2.,  3.,  5.,  6.,  1.,  2.,  1.,  6.,  1.,  3.,\n",
              "        2.,  1.,  2.,  5., 18.,  0.,  3.,  3.,  0.,  5.,  2., 11.,  4.,\n",
              "       13.,  9.,  0.,  4.,  0.,  3.,  3.,  0.,  4.,  0.,  1.,  3.,  2.,\n",
              "        0.,  4.,  1., 16.,  3.,  5., 13.,  6.,  2.,  6.,  1.,  1.,  8.,\n",
              "        0.,  1.,  0.,  0.,  0.,  2., 24.,  2.,  1.,  4.,  2.,  3.,  1.,\n",
              "        2.,  7.,  0.,  0.,  0.,  1.,  5.,  5.,  3.,  1.,  1., 15.,  0.,\n",
              "        8.,  2.,  0.,  3.,  7.,  1.,  1.,  5.,  2.,  5.,  2., 16., 14.,\n",
              "        3.,  1.,  0.,  8.,  3., 11.,  1.,  2.,  2.,  4.,  3., 15.,  0.,\n",
              "        3.,  0., 12.,  6.,  0.,  1.,  3.,  1.,  0.,  5.,  0.,  5.,  4.,\n",
              "        6.,  4.,  1.,  1.,  2.,  4.,  0., 18.,  4.,  6., 21.,  2.,  2.,\n",
              "        0.,  0.,  4.,  0., 15.,  6.,  5.,  0.,  3.,  4.,  2.,  7.,  2.,\n",
              "        0.,  5.,  0., 12.,  9.,  3.,  1.,  5.,  2.,  4.,  2.,  5.,  7.,\n",
              "        4.,  9.,  5.,  1.,  6.,  3.,  5., 11.,  1., 11.,  1.,  0.,  0.,\n",
              "        1.,  0.,  5., 10.,  4.,  4.,  0.,  0.,  2.,  0.,  0.,  8., 42.,\n",
              "        2.,  3.,  6.,  4.,  2.,  1.,  1.,  7.,  7.,  2.,  0.,  2.,  3.,\n",
              "        6.,  3.,  1., 12.,  0.,  1.,  4.,  0.,  5.,  1.,  0.,  0.,  2.,\n",
              "        0.,  7.,  4.,  0.,  2.,  0.,  0.,  1.,  5.,  4.,  1.,  1.,  3.,\n",
              "        4.,  8.,  1.,  2.,  9.,  5.,  4.,  2.,  3.,  7.,  6.,  1.,  4.,\n",
              "        0., 11.,  0., 12.,  2.,  4.,  1.,  0.,  3., 11.,  3.,  0.,  5.,\n",
              "        1.,  0.,  0.,  7.,  9.,  1.,  0.,  3.,  0.,  2.,  2.,  4.,  4.,\n",
              "        3., 31.,  7.,  4.,  0., 12., 12.,  2.,  2.,  4.,  6., 12.,  6.,\n",
              "       10.,  3.,  6.,  0.,  2.,  1.,  2.,  1.,  4.,  2., 10.,  0.,  0.,\n",
              "        1.,  0.,  0.,  2.,  1.,  0.,  8.,  2.,  4.,  5.,  0.,  1.,  6.,\n",
              "        0.,  0.,  4.,  6.,  2.,  3.,  9.,  1.,  2.,  0.,  0.,  3.,  5.,\n",
              "        6.,  3.,  0.,  7.,  3.,  4.,  3.,  7.,  6., 24.,  0.,  4.,  3.,\n",
              "        2.,  1.,  1.,  0.,  8.,  1., 13.,  8.,  0., 10.,  1., 13., 12.,\n",
              "        2.,  5.,  5.,  7.,  4.,  6.,  5.,  2.,  1.,  0.,  5.,  4.,  4.,\n",
              "        0.,  5.,  3.,  1., 11.,  6.,  5.,  2., 16.,  0.,  4.,  3.,  4.,\n",
              "        0.,  8.,  0.,  2.,  4.,  3.,  1.,  1.,  0.,  3.,  1.,  2.,  5.,\n",
              "        0.,  1.,  5.,  0.,  1., 10.,  2.,  1.,  3.,  4.,  3., 12., 13.,\n",
              "        0.,  0.,  7.,  4.,  5.,  0.,  5., 17.,  0., 28.,  2.,  0.,  2.,\n",
              "        6.,  0.,  2.,  4.,  2.,  8.,  0.,  0.,  0.,  2.,  0.,  2., 11.,\n",
              "       13.,  1.,  4.,  0.,  3.,  3.,  1.,  7., 13.,  1.,  0.,  5.,  5.,\n",
              "        8.,  7.,  1.,  0., 15.,  0.,  1.,  2., 25.,  0.,  5., 19.,  5.,\n",
              "       22.,  9.,  0.,  2., 21.,  1.,  4., 11.,  2.,  6.,  0.,  0., 13.,\n",
              "        2., 11.,  2.,  0., 13.,  1.,  0.,  6.,  2.,  6., 13.,  2.,  7.,\n",
              "       29., 17.,  2.,  0.,  4.,  1.,  2.,  7.,  2.,  6.,  3.,  4.,  5.,\n",
              "        4.,  5.,  1.,  1.,  2.,  5.,  7.,  3.,  5.,  5.,  0., 10., 18.,\n",
              "        0.,  0.,  3.,  2.,  1.,  1.,  3.,  3.,  2., 12.,  5.,  2.,  1.,\n",
              "        5.,  6.,  0.,  2.,  1.,  4.,  2.,  2.,  0.,  7.,  1.,  6.,  3.,\n",
              "        0.,  7.,  1.,  4.,  3.,  0.,  2.,  0.,  2.,  0.,  0.,  3.,  3.,\n",
              "        1.,  3.,  8.,  0.,  3.,  9.,  8.,  3.,  3.,  2.,  1.,  1.,  7.,\n",
              "       14.,  0.,  6.,  1.,  1.,  9.,  4.,  0.,  7.,  9.,  1.,  3.,  8.,\n",
              "        3.,  5.,  6.,  1.,  3., 15.,  6.,  2., 10.,  0.,  2.,  2.,  0.,\n",
              "       10., 11.,  5.,  1.,  0.,  3.,  1.,  2.,  1.,  5.,  1.,  2.,  0.,\n",
              "        5.,  2.,  4.,  1.,  8., 11.,  8.,  5.,  5.,  0.,  2., 13.,  0.,\n",
              "        2.,  0.,  9.,  2.,  4.,  2.,  0.,  8.,  8., 10.,  7.,  4.,  4.,\n",
              "        1.,  1.,  7.,  4.,  1.,  7.,  9.,  2.,  8.,  1.,  0.,  7.,  9.,\n",
              "        5.,  6.,  0.,  5.,  8., 11.,  4.,  2.,  6.,  3.,  1.,  0.,  9.,\n",
              "        4.,  2.,  3.,  4., 11.,  3.,  8.,  5.,  6.,  5.,  1.,  3.,  3.,\n",
              "        9.,  3., 10.,  3.,  4.,  5.,  9.,  4.,  8.,  1.,  2., 14.,  1.,\n",
              "        0.,  4.,  3.,  2.,  5.,  4.,  1.,  1.,  0.,  1.,  1.,  4.,  2.,\n",
              "        4.,  6.,  3.,  1.,  8., 20.,  3.,  0., 14.,  0.,  0., 14.,  8.,\n",
              "        5.,  5.,  1.,  4., 10.,  2.,  5.,  2.,  7.,  2.,  0.,  9.,  0.,\n",
              "        1.,  1.,  2.,  1.,  9.,  0.,  0., 11.,  5.,  3.,  1.,  0.,  1.,\n",
              "        6.,  2.,  0.,  0.,  0.,  5.,  5., 12.,  4.,  0.,  0.,  6.,  0.,\n",
              "        1.,  7.,  4.,  4.,  1.,  7.,  1.,  5.,  0., 14.,  5.,  9., 10.,\n",
              "        1.,  5.,  3.,  1.,  0.,  0.,  0.,  0.,  5.,  8., 14., 11.])"
            ]
          },
          "metadata": {
            "tags": []
          },
          "execution_count": 15
        }
      ]
    },
    {
      "cell_type": "code",
      "metadata": {
        "id": "PsXk_kv0gtMn",
        "outputId": "d55e63b8-b4a5-4ace-e058-6fadfb6f3442",
        "colab": {
          "base_uri": "https://localhost:8080/",
          "height": 930
        }
      },
      "source": [
        "gaps = gap_test(100000, 0.1, 0.3, 0.01)\n",
        "plt.figure(figsize=[20,15])\n",
        "plt.hist(gaps, bins=60, color=\"purple\",  alpha=0.8)\n",
        "plt.xlabel(\"Gaps\", fontsize=28)\n",
        "plt.ylabel(\"Cantidad de Gaps\", fontsize=28)\n",
        "plt.xticks(fontsize=28)\n",
        "plt.yticks(fontsize=28)\n",
        "plt.show()"
      ],
      "execution_count": null,
      "outputs": [
        {
          "output_type": "stream",
          "text": [
            "El test acepta la hipotesis nula.\n"
          ],
          "name": "stdout"
        },
        {
          "output_type": "display_data",
          "data": {
            "image/png": "[encoded data removed]",
            "text/plain": [
              "<Figure size 1440x1080 with 1 Axes>"
            ]
          },
          "metadata": {
            "tags": [],
            "needs_background": "light"
          }
        }
      ]
    },
    {
      "cell_type": "markdown",
      "metadata": {
        "id": "OQATMQaKh2fZ"
      },
      "source": [
        "###Una vez que probamos el test, podemos decir que aceptamos la hipótesis y el generador GCL puede ser aceptado."
      ]
    }
  ]
}