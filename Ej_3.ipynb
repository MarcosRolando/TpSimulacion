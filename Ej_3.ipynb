{
 "cells": [
  {
   "cell_type": "code",
   "execution_count": 1,
   "metadata": {},
   "outputs": [],
   "source": [
    "import random as rd\n",
    "import math as mt\n",
    "import matplotlib.pyplot as plt\n",
    "from scipy.stats import chi2"
   ]
  },
  {
   "cell_type": "code",
   "execution_count": 2,
   "metadata": {},
   "outputs": [],
   "source": [
    "semilla = int((101187 + 102323 + 102291 + 102321) / 4)\n",
    "Xo = semilla\n",
    "def generador_congruencial_lineal_normalizado(iteraciones):\n",
    "  m=2**32\n",
    "  a=1013904223\n",
    "  c=1664525\n",
    "  global Xo\n",
    "\n",
    "  numeros_aleatorios = []\n",
    "  for i in range(0,iteraciones):\n",
    "    X = (a * Xo + c) % m\n",
    "    numeros_aleatorios.append(X/m)\n",
    "    Xo = X\n",
    "  return numeros_aleatorios"
   ]
  },
  {
   "cell_type": "code",
   "execution_count": 3,
   "metadata": {},
   "outputs": [],
   "source": [
    "#Funciones auxiliares\n",
    "\n",
    "#El cuadrado esta delimitado por las rectas:\n",
    "#1) y = x + 5.sqrt(2)\n",
    "#2) y = -x + 40 - 5.sqrt(2)\n",
    "#3) y = x - 5.sqrt(2)\n",
    "#4) y = -x + 40 + 5.sqrt(2)\n",
    "\n",
    "def esta_en_la_region(tupla_xy):\n",
    "    if (tupla_xy[0] > 20 + 5 * mt.sqrt(2)) or (tupla_xy[0] < 20 - 5 * mt.sqrt(2)):\n",
    "        return false\n",
    "    if tupla_xy[0] <= 20:\n",
    "        return (tupla_xy[1] <= (tupla_xy[0] + 5 * mt.sqrt(2))) and \\\n",
    "               (tupla_xy[1] >= (-tupla_xy[0] + 40 - 5 * mt.sqrt(2)))\n",
    "    return (tupla_xy[1] >= (tupla_xy[0] - 5 * mt.sqrt(2))) and \\\n",
    "               (tupla_xy[1] <= (-tupla_xy[0] + 40 + 5 * mt.sqrt(2)))   \n",
    "\n",
    "def desplazar(x, y):\n",
    "    nuevo_x = x*mt.cos(mt.pi/4)-y*mt.sin(mt.pi/4) + 20\n",
    "    nuevo_y = x*mt.sin(mt.pi/4)+y*mt.cos(mt.pi/4) + 20 - 5* mt.sqrt(2)\n",
    "    return (nuevo_x, nuevo_y)\n",
    "    \n",
    "def rand_estandar():\n",
    "    return rd.uniform(0,10)\n",
    "    \n",
    "def rand_propio():\n",
    "    return generador_congruencial_lineal_normalizado(1)[0] * 10\n",
    "    \n",
    "\n",
    "#Se puede generar un cuadrado de las dimensiones pedidas (arista de 10) y después rotar y trasladar los puntos\n",
    "#generados en ese cuadrado, teniendo asi un rendimiento de 1\n",
    "#Rotacion: x' = x.cos(pi/4)-y.sen(pi/4)\n",
    "#          y' = x.sen(pi/4)+y.cos(pi/4)\n",
    "#Traslacion: x'' = x'+20\n",
    "#            y'' = y'+20-5.sqrt(2)\n",
    "    \n",
    "#Genera un cuadrado usando la funcion generadora de numeros random que reciba\n",
    "def generar_random_cuadrado(cant_numeros, rand_func):\n",
    "    ret = []\n",
    "    aux = 0\n",
    "    nros_totales_generados = 0\n",
    "    nros_validos_generados = 0\n",
    "    while (nros_validos_generados < cant_numeros):\n",
    "        aux = desplazar(rand_func(), rand_func())\n",
    "        if (esta_en_la_region(aux)):\n",
    "            ret.append(aux)\n",
    "            nros_validos_generados += 1\n",
    "        nros_totales_generados += 1\n",
    "    return (nros_validos_generados/nros_totales_generados, ret)"
   ]
  },
  {
   "cell_type": "markdown",
   "metadata": {},
   "source": [
    "Se  desea  generar  puntos  al  azar con  distribución uniforme dentro del área descripta en  el  gráfico utilizando  los  siguientes generados de números al azar:\n",
    "\n",
    "a) Generadores de números al azar con distribución uniforme, provistos por el lenguaje elegido para resolver el tp\n",
    "\n",
    "b) Generadores de números al azar implementados con el algoritmo del ejercicio 1.\n",
    "\n",
    "c) Calcule el factor de rendimiento del método.\n",
    "\n",
    "d)Proponga el test que considere necesario para demostrar que los números generados siguen la distribución pedida."
   ]
  },
  {
   "cell_type": "code",
   "execution_count": 4,
   "metadata": {},
   "outputs": [
    {
     "data": {
      "image/png": "[encoded data removed]",
      "text/plain": [
       "<Figure size 432x288 with 1 Axes>"
      ]
     },
     "metadata": {
      "needs_background": "light"
     },
     "output_type": "display_data"
    },
    {
     "name": "stdout",
     "output_type": "stream",
     "text": [
      "Factor de rendimiento: 1.0\n"
     ]
    }
   ],
   "source": [
    "#A)\n",
    "def rand_cuadrado_estandar(cant_numeros):\n",
    "    return generar_random_cuadrado(cant_numeros, rand_estandar)\n",
    "\n",
    "randoms_estandar = rand_cuadrado_estandar(10000)\n",
    "plt.scatter(*zip(*randoms_estandar[1]))\n",
    "plt.show()\n",
    "print(\"Factor de rendimiento: \" + str(randoms_estandar[0]))\n",
    "\n",
    "#Hacer test para la distribucion"
   ]
  },
  {
   "cell_type": "code",
   "execution_count": 5,
   "metadata": {},
   "outputs": [
    {
     "data": {
      "image/png": "[encoded data removed]",
      "text/plain": [
       "<Figure size 432x288 with 1 Axes>"
      ]
     },
     "metadata": {
      "needs_background": "light"
     },
     "output_type": "display_data"
    },
    {
     "name": "stdout",
     "output_type": "stream",
     "text": [
      "Factor de rendimiento: 1.0\n"
     ]
    }
   ],
   "source": [
    "#B)\n",
    "def rand_cuadrado_propio(cant_numeros):\n",
    "    return generar_random_cuadrado(cant_numeros, rand_propio)\n",
    "\n",
    "randoms_propios = rand_cuadrado_propio(10000)\n",
    "plt.scatter(*zip(*randoms_propios[1]))\n",
    "plt.show()\n",
    "print(\"Factor de rendimiento: \" + str(randoms_propios[0]))\n",
    "#Hacer test para la distribucion"
   ]
  },
  {
   "cell_type": "code",
   "execution_count": 6,
   "metadata": {},
   "outputs": [
    {
     "name": "stdout",
     "output_type": "stream",
     "text": [
      "El cuadrado random con funciones aleatorias propias es uniforme\n"
     ]
    }
   ],
   "source": [
    "#Para ver si los puntos estan distribuidos de forma uniforme en la region del cuadrado se puede generar \n",
    "#un sistema de coordenadas situado en la punta izquierda de la región pegado al perímetro de la región y\n",
    "#con este ver si tanto la posicion x como la y siguen distribuciones uniformes, para esto se usara el test de\n",
    "#Chi**2 discretizando las variables\n",
    "\n",
    "def trasladar_puntos(puntos_x_y):\n",
    "    ret = []\n",
    "    aux = 0\n",
    "    for i in range(len(puntos_x_y)):\n",
    "        aux = puntos_x_y[i]\n",
    "        u = -(aux[0] - aux[1] - 5 * mt.sqrt(2)) * (mt.sqrt(2)/2)\n",
    "        v = (aux[0] + aux[1] + 5 * mt.sqrt(2) - 40) * (mt.sqrt(2)/2)\n",
    "        ret.append((u, v))\n",
    "    return ret\n",
    "        \n",
    "def separar_en_listas(tuplas):\n",
    "    primer_elemento = []\n",
    "    segundo_elemento = []\n",
    "    for i in range(len(tuplas)):\n",
    "        primer_elemento.append(tuplas[i][0])\n",
    "        segundo_elemento.append(tuplas[i][1])\n",
    "    return (primer_elemento, segundo_elemento)\n",
    "    \n",
    "def test_chi2(valores, niv_significacion = 0.05):\n",
    "    #ancho_sturgues = 10/(1+mt.log(len(valores), 2))\n",
    "    ancho_sturgues = 1\n",
    "    #print(\"Ancho bins: \" + str(ancho_sturgues))\n",
    "    frecuencias = {}\n",
    "    for i in range(len(valores)):\n",
    "        bin = str(mt.floor(valores[i]/ancho_sturgues))\n",
    "        if bin in frecuencias:\n",
    "            frecuencias[bin] += 1\n",
    "        else:\n",
    "            frecuencias[bin] = 1\n",
    "    prob_bin = 1/len(frecuencias)\n",
    "    d2 = 0\n",
    "    for i in range(len(frecuencias)):\n",
    "        d2 += (frecuencias[str(i)] - len(valores) * prob_bin)**2/(len(valores) * prob_bin)\n",
    "        \"\"\"print(\"Frecuencia: \" + str(frecuencias[str(i)]))\n",
    "        print(\"Valor esperado: \" + str(len(valores) * prob_bin))\"\"\"\n",
    "    \"\"\"print(\"D2: \" + str(d2))\n",
    "    print(\"Dalpha: \" + str(chi2.ppf((1 - niv_significacion), df=(len(frecuencias)-1))))\n",
    "    \n",
    "    print(frecuencias)\"\"\"\n",
    "    return d2 <= chi2.ppf(1 - niv_significacion, df=len(frecuencias)-1)\n",
    "    \n",
    "    \n",
    "def test_uniformidad(puntos_generados):\n",
    "    puntos_u_v = trasladar_puntos(puntos_generados)\n",
    "    lista_u, lista_v = separar_en_listas(puntos_u_v)\n",
    "    return test_chi2(lista_u) and test_chi2(lista_v)\n",
    "\n",
    "if test_uniformidad(randoms_estandar[1]):\n",
    "    print(\"El cuadrado random con funciones aleatorias estandar es uniforme\")\n",
    "if test_uniformidad(randoms_propios[1]):\n",
    "    print(\"El cuadrado random con funciones aleatorias propias es uniforme\")"
   ]
  },
  {
   "cell_type": "code",
   "execution_count": null,
   "metadata": {},
   "outputs": [],
   "source": []
  }
 ],
 "metadata": {
  "kernelspec": {
   "display_name": "Python 3",
   "language": "python",
   "name": "python3"
  },
  "language_info": {
   "codemirror_mode": {
    "name": "ipython",
    "version": 3
   },
   "file_extension": ".py",
   "mimetype": "text/x-python",
   "name": "python",
   "nbconvert_exporter": "python",
   "pygments_lexer": "ipython3",
   "version": "3.8.3"
  }
 },
 "nbformat": 4,
 "nbformat_minor": 4
}
